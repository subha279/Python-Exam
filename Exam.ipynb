{
 "cells": [
  {
   "cell_type": "markdown",
   "id": "fe3d5700-0545-44d0-8a90-a8ba9046b0ca",
   "metadata": {},
   "source": [
    "# 1) Write a program to count the sub_string from main string\n",
    "# Example:- A B C D C D C\n",
    "# Sub_string= C D C result =2"
   ]
  },
  {
   "cell_type": "code",
   "execution_count": 9,
   "id": "b6ede28e-3cc2-4b8a-a540-e48f4b716b3b",
   "metadata": {},
   "outputs": [
    {
     "name": "stdout",
     "output_type": "stream",
     "text": [
      "Sub_string 'C D C' occurs 2 times in the main string.\n"
     ]
    }
   ],
   "source": [
    "def count_substring(main_string, sub_string):\n",
    "    main_list = main_string.split()\n",
    "    sub_list = sub_string.split()\n",
    "    \n",
    "    count = 0\n",
    "    sub_len = len(sub_list)\n",
    "    \n",
    "    for i in range(len(main_list) - sub_len + 1):\n",
    "        if main_list[i:i + sub_len] == sub_list:\n",
    "            count += 1\n",
    "    return count\n",
    "main_string = \"A B C D C D C\"\n",
    "sub_string = \"C D C\"\n",
    "result = count_substring(main_string, sub_string)\n",
    "print(f\"Sub_string '{sub_string}' occurs {result} times in the main string.\")"
   ]
  },
  {
   "cell_type": "markdown",
   "id": "8ef878ae-db29-4107-8342-d4b25799d067",
   "metadata": {},
   "source": [
    "# 2) Write a program to take 4 number and store in list \n",
    "# [2,4,6,8] find the factorial of the each number of the list and store the value  in the list "
   ]
  },
  {
   "cell_type": "code",
   "execution_count": 7,
   "id": "69eb05d2-0dbd-4ca1-a036-b4e410563c9f",
   "metadata": {},
   "outputs": [
    {
     "name": "stdout",
     "output_type": "stream",
     "text": [
      "Original numbers: [2, 4, 6, 8]\n",
      "Factorials: [2, 24, 720, 40320]\n"
     ]
    }
   ],
   "source": [
    "def factorial(n):\n",
    "    if n == 0 or n == 1:\n",
    "        return 1\n",
    "    else:\n",
    "        result = 1\n",
    "        for i in range(2, n + 1):\n",
    "            result *= i\n",
    "        return result\n",
    "numbers = [2, 4, 6, 8]\n",
    "factorials = [factorial(num) for num in numbers]\n",
    "print(\"Original numbers:\", numbers)\n",
    "print(\"Factorials:\", factorials)"
   ]
  },
  {
   "cell_type": "markdown",
   "id": "2f421209-43eb-4d0d-9921-7b142885ad98",
   "metadata": {},
   "source": [
    "# 3) Create a strong password combining words, numbers and characters. \n",
    "# (* )Keep creating the new password until you find one you like"
   ]
  },
  {
   "cell_type": "code",
   "execution_count": 8,
   "id": "2d4a72fa-4f9f-41ba-8cef-c767bd05fa60",
   "metadata": {},
   "outputs": [
    {
     "name": "stdout",
     "output_type": "stream",
     "text": [
      "!!! PASSWORD PICKER !!!\n",
      "Your password is :-  astrocratacer49#\n"
     ]
    },
    {
     "name": "stdin",
     "output_type": "stream",
     "text": [
      "Would you like to generate another password ? (Y/N) :- n\n"
     ]
    }
   ],
   "source": [
    "import string\n",
    "import random\n",
    "words = ['astrocrat','dwm','hyprland','xorg','wayland','linux','red','brave','suckless','purple','sleepy']\n",
    "nouns = ['apple','ball','goat','panda','Dragon','acer','hypectl','xwallpaper','clang','neovim','waybar']\n",
    "print (\"!!! PASSWORD PICKER !!!\")\n",
    "while True:\n",
    "    word=random.choice(words)\n",
    "    noun=random.choice(nouns)\n",
    "    number=random.randrange(1,100)\n",
    "    scr=random.choice(string.punctuation)\n",
    "    password=word+noun+str(number)+scr\n",
    "    print(\"Your password is :- \", password)\n",
    "    response=input(\"\"\"Would you like to generate another password ? (Y/N) :-\"\"\")\n",
    "    if response=='n':\n",
    "        break"
   ]
  },
  {
   "cell_type": "markdown",
   "id": "d665fba5-4e78-4c41-a29d-fca46ccf5ac6",
   "metadata": {},
   "source": [
    "# 4) Checking of the vowels inside the string"
   ]
  },
  {
   "cell_type": "code",
   "execution_count": 11,
   "id": "d1c2502b-11d1-4737-ac6a-223dd9c6c808",
   "metadata": {},
   "outputs": [
    {
     "name": "stdout",
     "output_type": "stream",
     "text": [
      "{'a': 1, 'e': 2, 'o': 3, 'u': 1}\n"
     ]
    }
   ],
   "source": [
    "def check_vowels(input_string):\n",
    "    vowels = 'aeiouAEIOU'\n",
    "    found_vowels = {char: input_string.count(char) for char in vowels if char in input_string}\n",
    "    return found_vowels\n",
    "    \n",
    "string = \"Hello how are you\"\n",
    "result = check_vowels(string)\n",
    "print(result)"
   ]
  },
  {
   "cell_type": "markdown",
   "id": "b5b2feb6-47e3-4187-b4f3-7d46ee789f33",
   "metadata": {},
   "source": [
    "# 5) A python program to access each element of a string in forward and reverse orders using while loop"
   ]
  },
  {
   "cell_type": "code",
   "execution_count": 15,
   "id": "3bb464c1-d87e-46fa-b7a3-82c2be2437a8",
   "metadata": {},
   "outputs": [
    {
     "name": "stdout",
     "output_type": "stream",
     "text": [
      "Forward order:\n",
      "H e l l o ,   W o r l d ! \n",
      "\n",
      "Reverse order:\n",
      "! d l r o W   , o l l e H "
     ]
    }
   ],
   "source": [
    "string = \"Hello, World!\"\n",
    "print(\"Forward order:\")\n",
    "i = 0\n",
    "while i < len(string):\n",
    "    print(string[i], end=\" \")\n",
    "    i += 1\n",
    "print(\"\\n\")\n",
    "print(\"Reverse order:\")\n",
    "i = len(string) - 1\n",
    "while i >= 0:\n",
    "    print(string[i], end=\" \")\n",
    "    i -= 1"
   ]
  },
  {
   "cell_type": "markdown",
   "id": "8a501739-98a5-490f-8157-f758f44a151a",
   "metadata": {},
   "source": [
    "# 6) Write a python program to know whether a sub- string exists in main string "
   ]
  },
  {
   "cell_type": "code",
   "execution_count": 18,
   "id": "f01752b9-597d-4688-834b-a371478d2d82",
   "metadata": {},
   "outputs": [
    {
     "name": "stdin",
     "output_type": "stream",
     "text": [
      "Enter the main string:  anupam\n",
      "Enter the substring to search for:  x\n"
     ]
    },
    {
     "name": "stdout",
     "output_type": "stream",
     "text": [
      "'x' does not exist in 'anupam'.\n"
     ]
    }
   ],
   "source": [
    "def is_substring(main_string, substring):\n",
    "    return substring in main_string\n",
    "if __name__ == \"__main__\":\n",
    "    main_string = input(\"Enter the main string: \")\n",
    "    substring = input(\"Enter the substring to search for: \")\n",
    "    if is_substring(main_string, substring):\n",
    "        print(f\"'{substring}' exists in '{main_string}'.\")\n",
    "    else:\n",
    "        print(f\"'{substring}' does not exist in '{main_string}'.\")"
   ]
  },
  {
   "cell_type": "markdown",
   "id": "0835d31d-0a43-4a39-bf55-bba970740204",
   "metadata": {},
   "source": [
    "# 7) A python program to find the first occurrences of sub string in a given main string "
   ]
  },
  {
   "cell_type": "code",
   "execution_count": 20,
   "id": "8739c4ca-413e-49e5-9dc6-b71af12f172e",
   "metadata": {},
   "outputs": [
    {
     "name": "stdout",
     "output_type": "stream",
     "text": [
      "The first occurrence of 'of' is at index 17.\n"
     ]
    }
   ],
   "source": [
    "def find_first_occurrence(main_string, substring):\n",
    "    index = main_string.find(substring)\n",
    "    if index != -1:\n",
    "        print(f\"The first occurrence of '{substring}' is at index {index}.\")\n",
    "    else:\n",
    "        print(f\"'{substring}' was not found in the main string.\")\n",
    "main_string = \"Haldia Institute of technology\"\n",
    "substring = \"of\"\n",
    "\n",
    "find_first_occurrence(main_string, substring)"
   ]
  },
  {
   "cell_type": "markdown",
   "id": "8b103255-f329-4446-ba06-0bd45909682d",
   "metadata": {},
   "source": [
    "# 8) A python program to insert a sub string in main string in a particular position\n",
    "# Example:- enter a string :- it is summer\n",
    "# Enter sub_string;- hot\n",
    "# Enter position no:- 7\n",
    "# Result :- It is hotsummer"
   ]
  },
  {
   "cell_type": "code",
   "execution_count": 23,
   "id": "36fa3baf-68e7-437d-9bb6-0ab227d211db",
   "metadata": {},
   "outputs": [
    {
     "name": "stdin",
     "output_type": "stream",
     "text": [
      "Enter a string:  it is  summer\n",
      "Enter sub_string:  hot\n",
      "Enter position no:  6\n"
     ]
    },
    {
     "name": "stdout",
     "output_type": "stream",
     "text": [
      "Result: it is hot summer\n"
     ]
    }
   ],
   "source": [
    "def insert_substring(main_string, sub_string, position):\n",
    "    new_string = main_string[:position] + sub_string + main_string[position:]\n",
    "    return new_string\n",
    "\n",
    "main_string = input(\"Enter a string: \")\n",
    "sub_string = input(\"Enter sub_string: \")\n",
    "position = int(input(\"Enter position no: \"))\n",
    "\n",
    "result = insert_substring(main_string, sub_string, position)\n",
    "print(f\"Result: {result}\")"
   ]
  },
  {
   "cell_type": "markdown",
   "id": "5f36ae8c-b6ac-491e-86a4-556516b7e681",
   "metadata": {},
   "source": [
    "# 9) Generate an  infinity fibonaaci series by using generator yield"
   ]
  },
  {
   "cell_type": "code",
   "execution_count": 24,
   "id": "70ed6552-2a8c-4f53-a142-3eec9c497fe1",
   "metadata": {},
   "outputs": [
    {
     "name": "stdout",
     "output_type": "stream",
     "text": [
      "0\n",
      "1\n",
      "1\n",
      "2\n",
      "3\n",
      "5\n",
      "8\n",
      "13\n",
      "21\n",
      "34\n"
     ]
    }
   ],
   "source": [
    "def infinite_fibonacci():\n",
    "    a, b = 0, 1\n",
    "    while True:\n",
    "        yield a\n",
    "        a, b = b, a + b\n",
    "fib_gen = infinite_fibonacci()\n",
    "for _ in range(10):\n",
    "    print(next(fib_gen))"
   ]
  },
  {
   "cell_type": "code",
   "execution_count": null,
   "id": "e8ef48b9-f2b8-4724-b6d7-3f45ee76f43b",
   "metadata": {},
   "outputs": [],
   "source": []
  }
 ],
 "metadata": {
  "kernelspec": {
   "display_name": "Python 3 (ipykernel)",
   "language": "python",
   "name": "python3"
  },
  "language_info": {
   "codemirror_mode": {
    "name": "ipython",
    "version": 3
   },
   "file_extension": ".py",
   "mimetype": "text/x-python",
   "name": "python",
   "nbconvert_exporter": "python",
   "pygments_lexer": "ipython3",
   "version": "3.12.2"
  }
 },
 "nbformat": 4,
 "nbformat_minor": 5
}
